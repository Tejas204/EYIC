{
  "nbformat": 4,
  "nbformat_minor": 0,
  "metadata": {
    "colab": {
      "name": "Landslide.ipynb",
      "provenance": []
    },
    "kernelspec": {
      "name": "python3",
      "display_name": "Python 3"
    },
    "language_info": {
      "name": "python"
    }
  },
  "cells": [
    {
      "cell_type": "code",
      "metadata": {
        "id": "1-I1k1nDcJyo"
      },
      "source": [
        "# Import libraries\n",
        "import numpy as np\n",
        "import pandas as pd\n",
        "import matplotlib.pyplot as plt"
      ],
      "execution_count": null,
      "outputs": []
    },
    {
      "cell_type": "code",
      "metadata": {
        "id": "UX9fuHV2cXmb"
      },
      "source": [
        "# import dataset\n",
        "df = pd.read_csv('dataset1.csv')"
      ],
      "execution_count": null,
      "outputs": []
    },
    {
      "cell_type": "code",
      "metadata": {
        "colab": {
          "base_uri": "https://localhost:8080/",
          "height": 359
        },
        "id": "XqM18hF3ce3P",
        "outputId": "03024a34-c1cc-4aaf-b3bb-7e60f5cdb8a5"
      },
      "source": [
        "#Printing the first 10 rows of the dataset\n",
        "df.head(10)"
      ],
      "execution_count": null,
      "outputs": [
        {
          "output_type": "execute_result",
          "data": {
            "text/html": [
              "<div>\n",
              "<style scoped>\n",
              "    .dataframe tbody tr th:only-of-type {\n",
              "        vertical-align: middle;\n",
              "    }\n",
              "\n",
              "    .dataframe tbody tr th {\n",
              "        vertical-align: top;\n",
              "    }\n",
              "\n",
              "    .dataframe thead th {\n",
              "        text-align: right;\n",
              "    }\n",
              "</style>\n",
              "<table border=\"1\" class=\"dataframe\">\n",
              "  <thead>\n",
              "    <tr style=\"text-align: right;\">\n",
              "      <th></th>\n",
              "      <th>height</th>\n",
              "      <th>place</th>\n",
              "      <th>slope</th>\n",
              "      <th>rainfall</th>\n",
              "      <th>historical_pp</th>\n",
              "      <th>landslide</th>\n",
              "    </tr>\n",
              "  </thead>\n",
              "  <tbody>\n",
              "    <tr>\n",
              "      <th>0</th>\n",
              "      <td>13.0</td>\n",
              "      <td>sandstone</td>\n",
              "      <td>10.000</td>\n",
              "      <td>248.92</td>\n",
              "      <td>195.84</td>\n",
              "      <td>1</td>\n",
              "    </tr>\n",
              "    <tr>\n",
              "      <th>1</th>\n",
              "      <td>65.0</td>\n",
              "      <td>silty</td>\n",
              "      <td>12.000</td>\n",
              "      <td>100.60</td>\n",
              "      <td>69.12</td>\n",
              "      <td>1</td>\n",
              "    </tr>\n",
              "    <tr>\n",
              "      <th>2</th>\n",
              "      <td>53.0</td>\n",
              "      <td>sandstone</td>\n",
              "      <td>14.870</td>\n",
              "      <td>77.98</td>\n",
              "      <td>117.86</td>\n",
              "      <td>0</td>\n",
              "    </tr>\n",
              "    <tr>\n",
              "      <th>3</th>\n",
              "      <td>133.0</td>\n",
              "      <td>shale</td>\n",
              "      <td>18.000</td>\n",
              "      <td>248.92</td>\n",
              "      <td>195.84</td>\n",
              "      <td>1</td>\n",
              "    </tr>\n",
              "    <tr>\n",
              "      <th>4</th>\n",
              "      <td>63.0</td>\n",
              "      <td>collivium</td>\n",
              "      <td>12.456</td>\n",
              "      <td>20.00</td>\n",
              "      <td>33.60</td>\n",
              "      <td>0</td>\n",
              "    </tr>\n",
              "    <tr>\n",
              "      <th>5</th>\n",
              "      <td>84.0</td>\n",
              "      <td>Allivium</td>\n",
              "      <td>11.200</td>\n",
              "      <td>10.00</td>\n",
              "      <td>24.20</td>\n",
              "      <td>0</td>\n",
              "    </tr>\n",
              "    <tr>\n",
              "      <th>6</th>\n",
              "      <td>97.0</td>\n",
              "      <td>sandstone</td>\n",
              "      <td>20.450</td>\n",
              "      <td>248.92</td>\n",
              "      <td>195.84</td>\n",
              "      <td>1</td>\n",
              "    </tr>\n",
              "    <tr>\n",
              "      <th>7</th>\n",
              "      <td>94.0</td>\n",
              "      <td>sandstone</td>\n",
              "      <td>18.000</td>\n",
              "      <td>30.00</td>\n",
              "      <td>10.90</td>\n",
              "      <td>1</td>\n",
              "    </tr>\n",
              "    <tr>\n",
              "      <th>8</th>\n",
              "      <td>98.0</td>\n",
              "      <td>shale</td>\n",
              "      <td>12.330</td>\n",
              "      <td>248.92</td>\n",
              "      <td>195.84</td>\n",
              "      <td>1</td>\n",
              "    </tr>\n",
              "    <tr>\n",
              "      <th>9</th>\n",
              "      <td>76.0</td>\n",
              "      <td>silty</td>\n",
              "      <td>13.000</td>\n",
              "      <td>5.00</td>\n",
              "      <td>0.00</td>\n",
              "      <td>0</td>\n",
              "    </tr>\n",
              "  </tbody>\n",
              "</table>\n",
              "</div>"
            ],
            "text/plain": [
              "   height      place   slope  rainfall  historical_pp  landslide\n",
              "0    13.0  sandstone  10.000    248.92         195.84          1\n",
              "1    65.0      silty  12.000    100.60          69.12          1\n",
              "2    53.0  sandstone  14.870     77.98         117.86          0\n",
              "3   133.0      shale  18.000    248.92         195.84          1\n",
              "4    63.0  collivium  12.456     20.00          33.60          0\n",
              "5    84.0   Allivium  11.200     10.00          24.20          0\n",
              "6    97.0  sandstone  20.450    248.92         195.84          1\n",
              "7    94.0  sandstone  18.000     30.00          10.90          1\n",
              "8    98.0      shale  12.330    248.92         195.84          1\n",
              "9    76.0      silty  13.000      5.00           0.00          0"
            ]
          },
          "metadata": {
            "tags": []
          },
          "execution_count": 3
        }
      ]
    },
    {
      "cell_type": "code",
      "metadata": {
        "colab": {
          "base_uri": "https://localhost:8080/"
        },
        "id": "RoUqNXdWcsvw",
        "outputId": "a644206e-24fd-47e6-ac2c-360165a0a562"
      },
      "source": [
        "#Printing the rows and columns of the dataset\n",
        "df.shape"
      ],
      "execution_count": null,
      "outputs": [
        {
          "output_type": "execute_result",
          "data": {
            "text/plain": [
              "(147, 6)"
            ]
          },
          "metadata": {
            "tags": []
          },
          "execution_count": 6
        }
      ]
    },
    {
      "cell_type": "code",
      "metadata": {
        "colab": {
          "base_uri": "https://localhost:8080/",
          "height": 204
        },
        "id": "6vHrK-O_cgES",
        "outputId": "8415d04b-5976-4fba-d7cf-f77c04c58688"
      },
      "source": [
        "#Calculating the corelation amongst the attributes/columns of the dataset\n",
        "df.corr()"
      ],
      "execution_count": null,
      "outputs": [
        {
          "output_type": "execute_result",
          "data": {
            "text/html": [
              "<div>\n",
              "<style scoped>\n",
              "    .dataframe tbody tr th:only-of-type {\n",
              "        vertical-align: middle;\n",
              "    }\n",
              "\n",
              "    .dataframe tbody tr th {\n",
              "        vertical-align: top;\n",
              "    }\n",
              "\n",
              "    .dataframe thead th {\n",
              "        text-align: right;\n",
              "    }\n",
              "</style>\n",
              "<table border=\"1\" class=\"dataframe\">\n",
              "  <thead>\n",
              "    <tr style=\"text-align: right;\">\n",
              "      <th></th>\n",
              "      <th>height</th>\n",
              "      <th>slope</th>\n",
              "      <th>rainfall</th>\n",
              "      <th>historical_pp</th>\n",
              "      <th>landslide</th>\n",
              "    </tr>\n",
              "  </thead>\n",
              "  <tbody>\n",
              "    <tr>\n",
              "      <th>height</th>\n",
              "      <td>1.000000</td>\n",
              "      <td>0.276745</td>\n",
              "      <td>0.051028</td>\n",
              "      <td>-0.062916</td>\n",
              "      <td>0.013592</td>\n",
              "    </tr>\n",
              "    <tr>\n",
              "      <th>slope</th>\n",
              "      <td>0.276745</td>\n",
              "      <td>1.000000</td>\n",
              "      <td>-0.066907</td>\n",
              "      <td>0.189980</td>\n",
              "      <td>0.079195</td>\n",
              "    </tr>\n",
              "    <tr>\n",
              "      <th>rainfall</th>\n",
              "      <td>0.051028</td>\n",
              "      <td>-0.066907</td>\n",
              "      <td>1.000000</td>\n",
              "      <td>0.664699</td>\n",
              "      <td>0.765961</td>\n",
              "    </tr>\n",
              "    <tr>\n",
              "      <th>historical_pp</th>\n",
              "      <td>-0.062916</td>\n",
              "      <td>0.189980</td>\n",
              "      <td>0.664699</td>\n",
              "      <td>1.000000</td>\n",
              "      <td>0.735587</td>\n",
              "    </tr>\n",
              "    <tr>\n",
              "      <th>landslide</th>\n",
              "      <td>0.013592</td>\n",
              "      <td>0.079195</td>\n",
              "      <td>0.765961</td>\n",
              "      <td>0.735587</td>\n",
              "      <td>1.000000</td>\n",
              "    </tr>\n",
              "  </tbody>\n",
              "</table>\n",
              "</div>"
            ],
            "text/plain": [
              "                 height     slope  rainfall  historical_pp  landslide\n",
              "height         1.000000  0.276745  0.051028      -0.062916   0.013592\n",
              "slope          0.276745  1.000000 -0.066907       0.189980   0.079195\n",
              "rainfall       0.051028 -0.066907  1.000000       0.664699   0.765961\n",
              "historical_pp -0.062916  0.189980  0.664699       1.000000   0.735587\n",
              "landslide      0.013592  0.079195  0.765961       0.735587   1.000000"
            ]
          },
          "metadata": {
            "tags": []
          },
          "execution_count": 4
        }
      ]
    },
    {
      "cell_type": "code",
      "metadata": {
        "id": "n1GppOA0dn71"
      },
      "source": [
        "# Re-ordering columns to have non-categorical varaibles first\n",
        "categorical_variables = ['place','landslide']\n",
        "\n",
        "#creating a list of all non-categorical variables\n",
        "non_categorical_variables = list(set(df.columns) - set(categorical_variables))\n",
        "\n",
        "#Determining the new order of the dataframe\n",
        "order = non_categorical_variables + categorical_variables\n",
        "df = df[order]"
      ],
      "execution_count": null,
      "outputs": []
    },
    {
      "cell_type": "code",
      "metadata": {
        "id": "YIFEQq64cjw8"
      },
      "source": [
        "from sklearn.preprocessing import OneHotEncoder\n",
        "\n",
        "# Add numerical feature names to final feature name list\n",
        "final_feature_names = []\n",
        "final_feature_names += non_categorical_variables\n",
        "\n",
        "# List of categorical feature names\n",
        "categorical_features = ['place']\n",
        "\n",
        "# Copy numerical features\n",
        "data = df[non_categorical_variables]\n",
        "\n",
        "# Copy one-hot encoded categorical features\n",
        "# Since there are 11 unique values in 'Geology', create 11 different columns for 'Geology' and apply One Hot Econcoding\n",
        "for i in categorical_features:\n",
        "    encoded = OneHotEncoder(sparse=False).fit_transform(df[i].values.reshape(df.shape[0],1))\n",
        "    cols = [i+'_'+str(j) for j in range (1, encoded.shape[1]+1)]\n",
        "    data = pd.concat([data, pd.DataFrame(encoded, columns=cols)], axis = 1)\n",
        "\n",
        "# Concatenate the column 'Landlside' to our new dataframe which has more columns than the original dataframe\n",
        "data = pd.concat([data, df[['landslide']]], axis = 1)"
      ],
      "execution_count": null,
      "outputs": []
    },
    {
      "cell_type": "code",
      "metadata": {
        "colab": {
          "base_uri": "https://localhost:8080/",
          "height": 359
        },
        "id": "ToFvGW6fdbwk",
        "outputId": "5b1956a0-6f29-4f54-a901-3ecc793f892b"
      },
      "source": [
        "data.head(10)"
      ],
      "execution_count": null,
      "outputs": [
        {
          "output_type": "execute_result",
          "data": {
            "text/html": [
              "<div>\n",
              "<style scoped>\n",
              "    .dataframe tbody tr th:only-of-type {\n",
              "        vertical-align: middle;\n",
              "    }\n",
              "\n",
              "    .dataframe tbody tr th {\n",
              "        vertical-align: top;\n",
              "    }\n",
              "\n",
              "    .dataframe thead th {\n",
              "        text-align: right;\n",
              "    }\n",
              "</style>\n",
              "<table border=\"1\" class=\"dataframe\">\n",
              "  <thead>\n",
              "    <tr style=\"text-align: right;\">\n",
              "      <th></th>\n",
              "      <th>historical_pp</th>\n",
              "      <th>slope</th>\n",
              "      <th>rainfall</th>\n",
              "      <th>height</th>\n",
              "      <th>place_1</th>\n",
              "      <th>place_2</th>\n",
              "      <th>place_3</th>\n",
              "      <th>place_4</th>\n",
              "      <th>place_5</th>\n",
              "      <th>landslide</th>\n",
              "    </tr>\n",
              "  </thead>\n",
              "  <tbody>\n",
              "    <tr>\n",
              "      <th>0</th>\n",
              "      <td>195.84</td>\n",
              "      <td>10.000</td>\n",
              "      <td>248.92</td>\n",
              "      <td>13.0</td>\n",
              "      <td>0.0</td>\n",
              "      <td>0.0</td>\n",
              "      <td>1.0</td>\n",
              "      <td>0.0</td>\n",
              "      <td>0.0</td>\n",
              "      <td>1</td>\n",
              "    </tr>\n",
              "    <tr>\n",
              "      <th>1</th>\n",
              "      <td>69.12</td>\n",
              "      <td>12.000</td>\n",
              "      <td>100.60</td>\n",
              "      <td>65.0</td>\n",
              "      <td>0.0</td>\n",
              "      <td>0.0</td>\n",
              "      <td>0.0</td>\n",
              "      <td>0.0</td>\n",
              "      <td>1.0</td>\n",
              "      <td>1</td>\n",
              "    </tr>\n",
              "    <tr>\n",
              "      <th>2</th>\n",
              "      <td>117.86</td>\n",
              "      <td>14.870</td>\n",
              "      <td>77.98</td>\n",
              "      <td>53.0</td>\n",
              "      <td>0.0</td>\n",
              "      <td>0.0</td>\n",
              "      <td>1.0</td>\n",
              "      <td>0.0</td>\n",
              "      <td>0.0</td>\n",
              "      <td>0</td>\n",
              "    </tr>\n",
              "    <tr>\n",
              "      <th>3</th>\n",
              "      <td>195.84</td>\n",
              "      <td>18.000</td>\n",
              "      <td>248.92</td>\n",
              "      <td>133.0</td>\n",
              "      <td>0.0</td>\n",
              "      <td>0.0</td>\n",
              "      <td>0.0</td>\n",
              "      <td>1.0</td>\n",
              "      <td>0.0</td>\n",
              "      <td>1</td>\n",
              "    </tr>\n",
              "    <tr>\n",
              "      <th>4</th>\n",
              "      <td>33.60</td>\n",
              "      <td>12.456</td>\n",
              "      <td>20.00</td>\n",
              "      <td>63.0</td>\n",
              "      <td>0.0</td>\n",
              "      <td>1.0</td>\n",
              "      <td>0.0</td>\n",
              "      <td>0.0</td>\n",
              "      <td>0.0</td>\n",
              "      <td>0</td>\n",
              "    </tr>\n",
              "    <tr>\n",
              "      <th>5</th>\n",
              "      <td>24.20</td>\n",
              "      <td>11.200</td>\n",
              "      <td>10.00</td>\n",
              "      <td>84.0</td>\n",
              "      <td>1.0</td>\n",
              "      <td>0.0</td>\n",
              "      <td>0.0</td>\n",
              "      <td>0.0</td>\n",
              "      <td>0.0</td>\n",
              "      <td>0</td>\n",
              "    </tr>\n",
              "    <tr>\n",
              "      <th>6</th>\n",
              "      <td>195.84</td>\n",
              "      <td>20.450</td>\n",
              "      <td>248.92</td>\n",
              "      <td>97.0</td>\n",
              "      <td>0.0</td>\n",
              "      <td>0.0</td>\n",
              "      <td>1.0</td>\n",
              "      <td>0.0</td>\n",
              "      <td>0.0</td>\n",
              "      <td>1</td>\n",
              "    </tr>\n",
              "    <tr>\n",
              "      <th>7</th>\n",
              "      <td>10.90</td>\n",
              "      <td>18.000</td>\n",
              "      <td>30.00</td>\n",
              "      <td>94.0</td>\n",
              "      <td>0.0</td>\n",
              "      <td>0.0</td>\n",
              "      <td>1.0</td>\n",
              "      <td>0.0</td>\n",
              "      <td>0.0</td>\n",
              "      <td>1</td>\n",
              "    </tr>\n",
              "    <tr>\n",
              "      <th>8</th>\n",
              "      <td>195.84</td>\n",
              "      <td>12.330</td>\n",
              "      <td>248.92</td>\n",
              "      <td>98.0</td>\n",
              "      <td>0.0</td>\n",
              "      <td>0.0</td>\n",
              "      <td>0.0</td>\n",
              "      <td>1.0</td>\n",
              "      <td>0.0</td>\n",
              "      <td>1</td>\n",
              "    </tr>\n",
              "    <tr>\n",
              "      <th>9</th>\n",
              "      <td>0.00</td>\n",
              "      <td>13.000</td>\n",
              "      <td>5.00</td>\n",
              "      <td>76.0</td>\n",
              "      <td>0.0</td>\n",
              "      <td>0.0</td>\n",
              "      <td>0.0</td>\n",
              "      <td>0.0</td>\n",
              "      <td>1.0</td>\n",
              "      <td>0</td>\n",
              "    </tr>\n",
              "  </tbody>\n",
              "</table>\n",
              "</div>"
            ],
            "text/plain": [
              "   historical_pp   slope  rainfall  ...  place_4  place_5  landslide\n",
              "0         195.84  10.000    248.92  ...      0.0      0.0          1\n",
              "1          69.12  12.000    100.60  ...      0.0      1.0          1\n",
              "2         117.86  14.870     77.98  ...      0.0      0.0          0\n",
              "3         195.84  18.000    248.92  ...      1.0      0.0          1\n",
              "4          33.60  12.456     20.00  ...      0.0      0.0          0\n",
              "5          24.20  11.200     10.00  ...      0.0      0.0          0\n",
              "6         195.84  20.450    248.92  ...      0.0      0.0          1\n",
              "7          10.90  18.000     30.00  ...      0.0      0.0          1\n",
              "8         195.84  12.330    248.92  ...      1.0      0.0          1\n",
              "9           0.00  13.000      5.00  ...      0.0      1.0          0\n",
              "\n",
              "[10 rows x 10 columns]"
            ]
          },
          "metadata": {
            "tags": []
          },
          "execution_count": 10
        }
      ]
    },
    {
      "cell_type": "code",
      "metadata": {
        "id": "rxaqfj4gdu1C"
      },
      "source": [
        "#Slicing the dataset by storing the features in X and the output in y\n",
        "X = data.iloc[:,0:9]\n",
        "y = data.iloc[:, 9]"
      ],
      "execution_count": null,
      "outputs": []
    },
    {
      "cell_type": "code",
      "metadata": {
        "colab": {
          "base_uri": "https://localhost:8080/",
          "height": 419
        },
        "id": "0rCv1Qy_d7P5",
        "outputId": "d2f966ad-fc80-4c97-828c-13f12bea74ce"
      },
      "source": [
        "#printing  X\n",
        "X"
      ],
      "execution_count": null,
      "outputs": [
        {
          "output_type": "execute_result",
          "data": {
            "text/html": [
              "<div>\n",
              "<style scoped>\n",
              "    .dataframe tbody tr th:only-of-type {\n",
              "        vertical-align: middle;\n",
              "    }\n",
              "\n",
              "    .dataframe tbody tr th {\n",
              "        vertical-align: top;\n",
              "    }\n",
              "\n",
              "    .dataframe thead th {\n",
              "        text-align: right;\n",
              "    }\n",
              "</style>\n",
              "<table border=\"1\" class=\"dataframe\">\n",
              "  <thead>\n",
              "    <tr style=\"text-align: right;\">\n",
              "      <th></th>\n",
              "      <th>historical_pp</th>\n",
              "      <th>slope</th>\n",
              "      <th>rainfall</th>\n",
              "      <th>height</th>\n",
              "      <th>place_1</th>\n",
              "      <th>place_2</th>\n",
              "      <th>place_3</th>\n",
              "      <th>place_4</th>\n",
              "      <th>place_5</th>\n",
              "    </tr>\n",
              "  </thead>\n",
              "  <tbody>\n",
              "    <tr>\n",
              "      <th>0</th>\n",
              "      <td>195.84</td>\n",
              "      <td>10.000</td>\n",
              "      <td>248.92</td>\n",
              "      <td>13.00</td>\n",
              "      <td>0.0</td>\n",
              "      <td>0.0</td>\n",
              "      <td>1.0</td>\n",
              "      <td>0.0</td>\n",
              "      <td>0.0</td>\n",
              "    </tr>\n",
              "    <tr>\n",
              "      <th>1</th>\n",
              "      <td>69.12</td>\n",
              "      <td>12.000</td>\n",
              "      <td>100.60</td>\n",
              "      <td>65.00</td>\n",
              "      <td>0.0</td>\n",
              "      <td>0.0</td>\n",
              "      <td>0.0</td>\n",
              "      <td>0.0</td>\n",
              "      <td>1.0</td>\n",
              "    </tr>\n",
              "    <tr>\n",
              "      <th>2</th>\n",
              "      <td>117.86</td>\n",
              "      <td>14.870</td>\n",
              "      <td>77.98</td>\n",
              "      <td>53.00</td>\n",
              "      <td>0.0</td>\n",
              "      <td>0.0</td>\n",
              "      <td>1.0</td>\n",
              "      <td>0.0</td>\n",
              "      <td>0.0</td>\n",
              "    </tr>\n",
              "    <tr>\n",
              "      <th>3</th>\n",
              "      <td>195.84</td>\n",
              "      <td>18.000</td>\n",
              "      <td>248.92</td>\n",
              "      <td>133.00</td>\n",
              "      <td>0.0</td>\n",
              "      <td>0.0</td>\n",
              "      <td>0.0</td>\n",
              "      <td>1.0</td>\n",
              "      <td>0.0</td>\n",
              "    </tr>\n",
              "    <tr>\n",
              "      <th>4</th>\n",
              "      <td>33.60</td>\n",
              "      <td>12.456</td>\n",
              "      <td>20.00</td>\n",
              "      <td>63.00</td>\n",
              "      <td>0.0</td>\n",
              "      <td>1.0</td>\n",
              "      <td>0.0</td>\n",
              "      <td>0.0</td>\n",
              "      <td>0.0</td>\n",
              "    </tr>\n",
              "    <tr>\n",
              "      <th>...</th>\n",
              "      <td>...</td>\n",
              "      <td>...</td>\n",
              "      <td>...</td>\n",
              "      <td>...</td>\n",
              "      <td>...</td>\n",
              "      <td>...</td>\n",
              "      <td>...</td>\n",
              "      <td>...</td>\n",
              "      <td>...</td>\n",
              "    </tr>\n",
              "    <tr>\n",
              "      <th>142</th>\n",
              "      <td>80.50</td>\n",
              "      <td>17.000</td>\n",
              "      <td>218.95</td>\n",
              "      <td>59.05</td>\n",
              "      <td>0.0</td>\n",
              "      <td>0.0</td>\n",
              "      <td>1.0</td>\n",
              "      <td>0.0</td>\n",
              "      <td>0.0</td>\n",
              "    </tr>\n",
              "    <tr>\n",
              "      <th>143</th>\n",
              "      <td>0.00</td>\n",
              "      <td>20.490</td>\n",
              "      <td>35.00</td>\n",
              "      <td>164.04</td>\n",
              "      <td>0.0</td>\n",
              "      <td>0.0</td>\n",
              "      <td>0.0</td>\n",
              "      <td>1.0</td>\n",
              "      <td>0.0</td>\n",
              "    </tr>\n",
              "    <tr>\n",
              "      <th>144</th>\n",
              "      <td>0.00</td>\n",
              "      <td>12.000</td>\n",
              "      <td>0.00</td>\n",
              "      <td>167.32</td>\n",
              "      <td>0.0</td>\n",
              "      <td>0.0</td>\n",
              "      <td>0.0</td>\n",
              "      <td>0.0</td>\n",
              "      <td>1.0</td>\n",
              "    </tr>\n",
              "    <tr>\n",
              "      <th>145</th>\n",
              "      <td>80.50</td>\n",
              "      <td>8.660</td>\n",
              "      <td>218.95</td>\n",
              "      <td>52.49</td>\n",
              "      <td>0.0</td>\n",
              "      <td>1.0</td>\n",
              "      <td>0.0</td>\n",
              "      <td>0.0</td>\n",
              "      <td>0.0</td>\n",
              "    </tr>\n",
              "    <tr>\n",
              "      <th>146</th>\n",
              "      <td>80.50</td>\n",
              "      <td>18.880</td>\n",
              "      <td>218.95</td>\n",
              "      <td>144.35</td>\n",
              "      <td>0.0</td>\n",
              "      <td>0.0</td>\n",
              "      <td>0.0</td>\n",
              "      <td>0.0</td>\n",
              "      <td>1.0</td>\n",
              "    </tr>\n",
              "  </tbody>\n",
              "</table>\n",
              "<p>147 rows × 9 columns</p>\n",
              "</div>"
            ],
            "text/plain": [
              "     historical_pp   slope  rainfall  ...  place_3  place_4  place_5\n",
              "0           195.84  10.000    248.92  ...      1.0      0.0      0.0\n",
              "1            69.12  12.000    100.60  ...      0.0      0.0      1.0\n",
              "2           117.86  14.870     77.98  ...      1.0      0.0      0.0\n",
              "3           195.84  18.000    248.92  ...      0.0      1.0      0.0\n",
              "4            33.60  12.456     20.00  ...      0.0      0.0      0.0\n",
              "..             ...     ...       ...  ...      ...      ...      ...\n",
              "142          80.50  17.000    218.95  ...      1.0      0.0      0.0\n",
              "143           0.00  20.490     35.00  ...      0.0      1.0      0.0\n",
              "144           0.00  12.000      0.00  ...      0.0      0.0      1.0\n",
              "145          80.50   8.660    218.95  ...      0.0      0.0      0.0\n",
              "146          80.50  18.880    218.95  ...      0.0      0.0      1.0\n",
              "\n",
              "[147 rows x 9 columns]"
            ]
          },
          "metadata": {
            "tags": []
          },
          "execution_count": 12
        }
      ]
    },
    {
      "cell_type": "code",
      "metadata": {
        "colab": {
          "base_uri": "https://localhost:8080/"
        },
        "id": "kXc5FRHWd79W",
        "outputId": "2b9256b2-bcd7-4931-beda-afe2a28c2ceb"
      },
      "source": [
        "#Printing y\n",
        "y"
      ],
      "execution_count": null,
      "outputs": [
        {
          "output_type": "execute_result",
          "data": {
            "text/plain": [
              "0      1\n",
              "1      1\n",
              "2      0\n",
              "3      1\n",
              "4      0\n",
              "      ..\n",
              "142    1\n",
              "143    0\n",
              "144    0\n",
              "145    1\n",
              "146    1\n",
              "Name: landslide, Length: 147, dtype: int64"
            ]
          },
          "metadata": {
            "tags": []
          },
          "execution_count": 13
        }
      ]
    },
    {
      "cell_type": "code",
      "metadata": {
        "id": "GPYU7x-vd9p9"
      },
      "source": [
        "#Import train_test_split to split the dataset into training and testing\n",
        "#30% of the dataset is set aside for testing\n",
        "from sklearn.model_selection import train_test_split\n",
        "X_train, X_test, y_train, y_test = train_test_split(X, y, test_size = 0.3)"
      ],
      "execution_count": null,
      "outputs": []
    },
    {
      "cell_type": "code",
      "metadata": {
        "id": "gaMRhx8deQDz"
      },
      "source": [
        "#Import StandardScaler so that we can use the standard deviation and mean so that our dataframe is distributed normally/evenly\n",
        "from sklearn.preprocessing import StandardScaler\n",
        "sc = StandardScaler()\n",
        "\n",
        "#Applt fit_transform() to the features\n",
        "#fit_transform first calculates the mean and standard deviation and then uses them to transform the data so that it is normally distributed\n",
        "X_train = sc.fit_transform(X_train)\n",
        "\n",
        "#We do not calculate the mean and standard deviation again for the test dataset.\n",
        "#The test dataset is transformed using the values of mean and standard deviation calculated while applying StandardScaler to the training dataset\n",
        "X_test = sc.transform(X_test)"
      ],
      "execution_count": null,
      "outputs": []
    },
    {
      "cell_type": "code",
      "metadata": {
        "id": "AJWLc0Uieate"
      },
      "source": [
        "# Import the models like Logistic Regression, SVC, Random Forest Claasifier, along with the evaluation metrics from the scikit learn library\n",
        "from sklearn.linear_model import LogisticRegression\n",
        "from sklearn.svm import SVC\n",
        "from sklearn.tree import DecisionTreeClassifier\n",
        "from sklearn.ensemble import RandomForestClassifier\n",
        "from sklearn.neural_network import MLPClassifier\n",
        "from sklearn.neighbors import KNeighborsClassifier\n",
        "\n",
        "from sklearn.metrics import confusion_matrix\n",
        "from sklearn.metrics import accuracy_score\n",
        "from sklearn.metrics import roc_curve\n",
        "from sklearn.metrics import roc_auc_score\n",
        "from sklearn.metrics import precision_recall_fscore_support\n",
        "from sklearn.metrics import precision_recall_curve\n",
        "from sklearn import metrics"
      ],
      "execution_count": null,
      "outputs": []
    },
    {
      "cell_type": "markdown",
      "metadata": {
        "id": "hzilQFSne4Zn"
      },
      "source": [
        "**Logistic Regression**"
      ]
    },
    {
      "cell_type": "code",
      "metadata": {
        "colab": {
          "base_uri": "https://localhost:8080/"
        },
        "id": "pJIH4C6yeeva",
        "outputId": "33b37ee1-b923-410a-efe0-e129b314d74a"
      },
      "source": [
        "#Create an object of LogisticRegression\n",
        "logreg = LogisticRegression()\n",
        "\n",
        "#Train the model using the training dataset\n",
        "logreg.fit(X_train, y_train)\n",
        "\n",
        "#Pass the test dataset to predict landslide\n",
        "logreg_prediction = logreg.predict(X_test)\n",
        "\n",
        "#Calculate the probability of a landslide occuring\n",
        "logreg_proba = logreg.predict_proba(X_test)\n",
        "\n",
        "#Calculate the accuracy of the model by comparing the predicted values against the actual values\n",
        "logreg_score = metrics.accuracy_score(y_test, logreg_prediction)\n",
        "\n",
        "#Calculate the area under curve for plotting true positive rate vs false positive rate\n",
        "logreg_roc_auc = roc_auc_score(y_test, logreg_proba[:,1])\n",
        "\n",
        "#print the accuracy and area under curve score\n",
        "print(logreg_score)\n",
        "print(logreg_roc_auc)"
      ],
      "execution_count": null,
      "outputs": [
        {
          "output_type": "stream",
          "text": [
            "0.9333333333333333\n",
            "0.9761904761904762\n"
          ],
          "name": "stdout"
        }
      ]
    },
    {
      "cell_type": "markdown",
      "metadata": {
        "id": "34fxejj7faUr"
      },
      "source": [
        "**Support Vector Machine**"
      ]
    },
    {
      "cell_type": "code",
      "metadata": {
        "colab": {
          "base_uri": "https://localhost:8080/"
        },
        "id": "EvXhDUUAe19x",
        "outputId": "6b94b3db-dcc6-436d-e639-502df9e22a81"
      },
      "source": [
        "#Create an object of LogisticRegression\n",
        "#Train the model using the training dataset\n",
        "svm = SVC(random_state =0, probability = True).fit(X_train,y_train.ravel())\n",
        "\n",
        "#Pass the test dataset to predict landslide\n",
        "svm_pred = svm.predict(X_test)\n",
        "\n",
        "#Calculate the probability of a landslide occuring\n",
        "svm_proba = svm.predict_proba(X_test)\n",
        "\n",
        "#Calculate the accuracy of the model by comparing the predicted values against the actual values\n",
        "svm_score = metrics.accuracy_score(y_test, svm_pred)\n",
        "\n",
        "#Calculate the area under curve for plotting true positive rate vs false positive rate\n",
        "svm_roc_auc = roc_auc_score(y_test, svm_proba[:,1])\n",
        "\n",
        "#print the accuracy and area under curve score\n",
        "print(svm_score)\n",
        "print(svm_roc_auc)"
      ],
      "execution_count": null,
      "outputs": [
        {
          "output_type": "stream",
          "text": [
            "0.9111111111111111\n",
            "0.9821428571428572\n"
          ],
          "name": "stdout"
        }
      ]
    },
    {
      "cell_type": "markdown",
      "metadata": {
        "id": "VzVVyr3Wfd1a"
      },
      "source": [
        "**Decision Tree Classifier**"
      ]
    },
    {
      "cell_type": "code",
      "metadata": {
        "colab": {
          "base_uri": "https://localhost:8080/"
        },
        "id": "ZQPDGyF8fKOd",
        "outputId": "b5f12489-4d32-4847-886c-39f1a9c153da"
      },
      "source": [
        "#Create an object of LogisticRegression\n",
        "#Train the model using the training dataset\n",
        "dt = DecisionTreeClassifier(random_state=0, criterion = 'gini', max_depth=15, max_features='auto').fit(X_train, y_train.ravel())\n",
        "\n",
        "#Pass the test dataset to predict landslide\n",
        "dt_pred = dt.predict(X_test)\n",
        "\n",
        "#Calculate the probability of a landslide occuring\n",
        "dt_proba = dt.predict_proba(X_test)\n",
        "\n",
        "#Calculate the accuracy of the model by comparing the predicted values against the actual values\n",
        "dt_score = metrics.accuracy_score(y_test, dt_pred)\n",
        "\n",
        "#Calculate the area under curve for plotting true positive rate vs false positive rate\n",
        "dt_roc_auc = roc_auc_score(y_test, dt_proba[:,1])\n",
        "\n",
        "#print the accuracy and area under curve score\n",
        "print(dt_score)\n",
        "print(dt_roc_auc)"
      ],
      "execution_count": null,
      "outputs": [
        {
          "output_type": "stream",
          "text": [
            "0.8444444444444444\n",
            "0.8482142857142856\n"
          ],
          "name": "stdout"
        }
      ]
    },
    {
      "cell_type": "markdown",
      "metadata": {
        "id": "79h_ViG3g3ji"
      },
      "source": [
        "**Random Forest Classifier**"
      ]
    },
    {
      "cell_type": "code",
      "metadata": {
        "colab": {
          "base_uri": "https://localhost:8080/"
        },
        "id": "2hfe1yQsgAWO",
        "outputId": "d35ab21b-63b4-4b53-d20d-11d693ac3e2f"
      },
      "source": [
        "#Create an object of LogisticRegression\n",
        "#Train the model using the training dataset\n",
        "rf = RandomForestClassifier().fit(X_train, y_train.ravel())\n",
        "\n",
        "#Pass the test dataset to predict landslide\n",
        "rf_pred = rf.predict(X_test)\n",
        "\n",
        "#Calculate the probability of a landslide occuring\n",
        "rf_proba = rf.predict_proba(X_test)\n",
        "\n",
        "#Calculate the accuracy of the model by comparing the predicted values against the actual values\n",
        "rf_score = metrics.accuracy_score(y_test, rf_pred)\n",
        "\n",
        "#Calculate the area under curve for plotting true positive rate vs false positive rate\n",
        "rf_roc_auc = roc_auc_score(y_test, rf_proba[:,1])\n",
        "\n",
        "#print the accuracy and area under curve score\n",
        "print(rf_score)\n",
        "print(rf_roc_auc)"
      ],
      "execution_count": null,
      "outputs": [
        {
          "output_type": "stream",
          "text": [
            "0.9333333333333333\n",
            "0.9613095238095238\n"
          ],
          "name": "stdout"
        }
      ]
    },
    {
      "cell_type": "markdown",
      "metadata": {
        "id": "urWlZ1_nhg-p"
      },
      "source": [
        "**Multi Layer Perceptron classifier**"
      ]
    },
    {
      "cell_type": "code",
      "metadata": {
        "colab": {
          "base_uri": "https://localhost:8080/"
        },
        "id": "Zc87jgErglUf",
        "outputId": "8ed1cb90-b6b5-40c3-bd7f-15a637f58c5a"
      },
      "source": [
        "#Create an object of LogisticRegression\n",
        "#Train the model using the training dataset\n",
        "mlp = MLPClassifier(random_state=0, max_iter = 2000, activation = 'relu', hidden_layer_sizes = 12).fit(X_train, y_train.ravel())\n",
        "\n",
        "#Pass the test dataset to predict landslide\n",
        "mlp_pred = mlp.predict(X_test)\n",
        "\n",
        "#Calculate the probability of a landslide occuring\n",
        "mlp_proba = mlp.predict_proba(X_test)\n",
        "\n",
        "#Calculate the accuracy of the model by comparing the predicted values against the actual values\n",
        "mlp_score = metrics.accuracy_score(y_test, mlp_pred)\n",
        "\n",
        "#Calculate the area under curve for plotting true positive rate vs false positive rate\n",
        "mlp_roc_auc = roc_auc_score(y_test, mlp_proba[:,1])\n",
        "\n",
        "#print the accuracy and area under curve score\n",
        "print(mlp_score)\n",
        "print(mlp_roc_auc)"
      ],
      "execution_count": null,
      "outputs": [
        {
          "output_type": "stream",
          "text": [
            "0.9333333333333333\n",
            "0.9742063492063493\n"
          ],
          "name": "stdout"
        }
      ]
    },
    {
      "cell_type": "markdown",
      "metadata": {
        "id": "4P-hjPSghkYa"
      },
      "source": [
        "**KNN**"
      ]
    },
    {
      "cell_type": "code",
      "metadata": {
        "colab": {
          "base_uri": "https://localhost:8080/"
        },
        "id": "8TOQ3HDbhSea",
        "outputId": "c6987dc0-ea83-41d0-a6d5-ab331b1bc109"
      },
      "source": [
        "#Create an object of LogisticRegression\n",
        "#Train the model using the training dataset\n",
        "knn = KNeighborsClassifier(metric='manhattan', n_neighbors=4).fit(X_train, y_train.ravel())\n",
        "\n",
        "#Pass the test dataset to predict landslide\n",
        "knn_pred = knn.predict(X_test)\n",
        "\n",
        "#Calculate the probability of a landslide occuring\n",
        "knn_proba = knn.predict_proba(X_test)\n",
        "\n",
        "#Calculate the accuracy of the model by comparing the predicted values against the actual values\n",
        "knn_score = metrics.accuracy_score(y_test, knn_pred)\n",
        "\n",
        "#Calculate the area under curve for plotting true positive rate vs false positive rate\n",
        "knn_roc_auc = roc_auc_score(y_test, knn_proba[:,1])\n",
        "\n",
        "#print the accuracy and area under curve score\n",
        "print(knn_score)\n",
        "print(knn_roc_auc)"
      ],
      "execution_count": null,
      "outputs": [
        {
          "output_type": "stream",
          "text": [
            "0.9111111111111111\n",
            "0.9553571428571428\n"
          ],
          "name": "stdout"
        }
      ]
    },
    {
      "cell_type": "code",
      "metadata": {
        "colab": {
          "base_uri": "https://localhost:8080/",
          "height": 611
        },
        "id": "hmQFGtGdh7ke",
        "outputId": "2dd71f1a-0a1a-40a8-ce96-8d56689ab999"
      },
      "source": [
        "#Separate the true positive rate(tpr) and the false positive rate(fpr)\n",
        "lr_fpr, lr_tpr, _ = roc_curve(y_test, logreg_proba[:,1])\n",
        "svm_fpr, svm_tpr, _ = roc_curve(y_test, svm_proba[:,1])\n",
        "mlp_fpr, mlp_tpr, _ = roc_curve(y_test, mlp_proba[:,1])\n",
        "rf_fpr, rf_tpr, _ = roc_curve(y_test, rf_proba[:,1])\n",
        "knn_fpr, knn_tpr, _ = roc_curve(y_test, knn_proba[:,1])\n",
        "dt_fpr, dt_tpr, _ = roc_curve(y_test, dt_proba[:,1])\n",
        "#Create a figure with size 10x10 \n",
        "fig, ax = plt.subplots(1, figsize=(10,10))\n",
        "\n",
        "\n",
        "\n",
        "# plot the roc curve for the models\n",
        "\n",
        "ax.plot(svm_fpr, svm_tpr,  color = 'blue', label='Support Vector Machine (AUC: ' + str(np.round(svm_roc_auc,4))+')')\n",
        "ax.plot(lr_fpr, lr_tpr,  color = 'orange', label='Logistic Regression (AUC: ' + str(np.round(logreg_roc_auc,4))+')')\n",
        "ax.plot(mlp_fpr, mlp_tpr, color = 'green', label='Multi Layer Perceptron (AUC: ' + str(np.round(mlp_roc_auc,4))+')')\n",
        "ax.plot(knn_fpr, knn_tpr,  color = 'purple',label='K Nearest Neighbor (AUC: ' + str(np.round(knn_roc_auc,4))+')')\n",
        "ax.plot(dt_fpr, dt_tpr,  color = 'yellow', label='Decision Tree (AUC: ' + str(np.round(dt_roc_auc,4))+')')\n",
        "ax.plot(rf_fpr, rf_tpr,  color = 'red', label='Random Forest (AUC: ' + str(np.round(rf_roc_auc,4))+')')\n",
        "ax.plot([0,1],[0,1], color='grey', linestyle='dashed')\n",
        "\n",
        "# axis labels\n",
        "ax.set_xlabel('False Positive Rate', fontsize=15)\n",
        "ax.set_ylabel('True Positive Rate', fontsize=15)\n",
        "\n",
        "#Create handles and labels for the purpose of making a legend\n",
        "handles,labels = ax.get_legend_handles_labels()\n",
        "handles = [handles[4], handles[2], handles[0], handles[3], handles[1]]\n",
        "labels = [labels[4], labels[2], labels[0], labels[3], labels[1]]\n",
        "\n",
        "ax.grid(linestyle='dashed')\n",
        "ax.legend(handles,labels, fontsize=14)\n",
        "\n",
        "# show the plot\n",
        "plt.show()"
      ],
      "execution_count": null,
      "outputs": [
        {
          "output_type": "display_data",
          "data": {
            "image/png": "[encoded data removed]",
            "text/plain": [
              "<Figure size 720x720 with 1 Axes>"
            ]
          },
          "metadata": {
            "tags": [],
            "needs_background": "light"
          }
        }
      ]
    },
    {
      "cell_type": "code",
      "metadata": {
        "id": "3YdBAqGQinIP"
      },
      "source": [
        ""
      ],
      "execution_count": null,
      "outputs": []
    }
  ]
}